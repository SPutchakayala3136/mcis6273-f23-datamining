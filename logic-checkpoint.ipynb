{
  "metadata": {
    "kernelspec": {
      "name": "python",
      "display_name": "Python (Pyodide)",
      "language": "python"
    },
    "language_info": {
      "codemirror_mode": {
        "name": "ipython",
        "version": 3
      },
      "file_extension": ".py",
      "mimetype": "text/x-python",
      "name": "python",
      "nbconvert_exporter": "python",
      "pygments_lexer": "ipython3",
      "version": "3.6.3"
    }
  },
  "nbformat_minor": 4,
  "nbformat": 4,
  "cells": [
    {
      "cell_type": "code",
      "source": "import csv\nimport re",
      "metadata": {
        "collapsed": true,
        "jupyter": {
          "outputs_hidden": true
        }
      },
      "execution_count": 1,
      "outputs": []
    },
    {
      "cell_type": "code",
      "source": "def is_alphabet(word):\n    return bool(re.match('^[a-zA-Z]+$', word))",
      "metadata": {
        "collapsed": true,
        "jupyter": {
          "outputs_hidden": true
        }
      },
      "execution_count": 2,
      "outputs": []
    },
    {
      "cell_type": "code",
      "source": "path_to_text = \"./TestData\"\npath_to_stopwords = \"./stopwords-en.txt\"",
      "metadata": {
        "tags": []
      },
      "execution_count": 3,
      "outputs": []
    },
    {
      "cell_type": "code",
      "source": "def read_text(path, uppercase = False):\n    words_dict = {}\n    data = open(path, \"r\")\n    for line in data:\n        line = line.strip()\n        words = line.split(\" \")\n        for word in words:\n            word = re.sub(r'^[^\\w]+|[^\\w]+$', '', word)\n            if is_alphabet(word):\n                if uppercase:\n                    if word[0].isupper():\n                        if word in words_dict:\n                            words_dict[word] = words_dict[word] + 1\n                        else:\n                            words_dict[word] = 1\n                else:\n                    word = word.lower()\n                    if word in words_dict:\n                        words_dict[word] = words_dict[word] + 1\n                    else:\n                        words_dict[word] = 1\n    return words_dict",
      "metadata": {
        "collapsed": true,
        "jupyter": {
          "outputs_hidden": true
        }
      },
      "execution_count": 4,
      "outputs": []
    },
    {
      "cell_type": "code",
      "source": "def write(data, file_name):\n    with open(file_name, 'w') as f:\n        w = csv.writer(f)\n        w.writerows(data)",
      "metadata": {
        "collapsed": true,
        "jupyter": {
          "outputs_hidden": true
        }
      },
      "execution_count": 5,
      "outputs": []
    },
    {
      "cell_type": "code",
      "source": "def remove_stopwords(data):\n    ns_words = {}\n    count = 0\n    stop_words = []\n    stopword = open(path_to_stopwords, \"r\")\n    for line in stopword:\n        line = line.strip()\n        words = line.split(\" \")\n        stop_words.append(words[0])\n    for word in data:\n        if word not in stop_words:\n            ns_words[word] = data[word]\n            count = count + data[word]\n    return ns_words,count",
      "metadata": {
        "collapsed": true,
        "jupyter": {
          "outputs_hidden": true
        }
      },
      "execution_count": 6,
      "outputs": []
    },
    {
      "cell_type": "code",
      "source": "def calculator(ns_words, total_count):\n    probablity = []\n    probablity_dict = {}\n    for word in ns_words:\n        probablity.append([word, ns_words[word], str(float(ns_words[word])/total_count)])\n        probablity_dict[word] = (float(ns_words[word])/total_count)\n    return probablity, probablity_dict",
      "metadata": {
        "collapsed": true,
        "jupyter": {
          "outputs_hidden": true
        }
      },
      "execution_count": 7,
      "outputs": []
    },
    {
      "cell_type": "code",
      "source": "def find(sentences, data):\n    probability = 0\n    sentences = sentences.split(\" \")\n    for word in sentences:\n        word = re.sub(r'^[^\\w]+|[^\\w]+$', '', word)\n        if word in data:\n            probability = probability + float(data[word])\n    return probability",
      "metadata": {
        "collapsed": true,
        "jupyter": {
          "outputs_hidden": true
        }
      },
      "execution_count": 8,
      "outputs": []
    },
    {
      "cell_type": "code",
      "source": "all_words = read_text(path_to_text)",
      "metadata": {
        "collapsed": true,
        "jupyter": {
          "outputs_hidden": true
        }
      },
      "execution_count": 9,
      "outputs": []
    },
    {
      "cell_type": "code",
      "source": "upper_words = read_text(path_to_text, True)",
      "metadata": {
        "collapsed": true,
        "jupyter": {
          "outputs_hidden": true
        }
      },
      "execution_count": 10,
      "outputs": []
    },
    {
      "cell_type": "code",
      "source": "write(sorted(all_words.items()), \"all_words.csv\")\nwrite(sorted(upper_words.items()), \"all_uppercase_words.csv\")",
      "metadata": {
        "collapsed": true,
        "jupyter": {
          "outputs_hidden": true
        }
      },
      "execution_count": 11,
      "outputs": []
    },
    {
      "cell_type": "code",
      "source": "ns_words, total_count = remove_stopwords(all_words)",
      "metadata": {
        "collapsed": true,
        "jupyter": {
          "outputs_hidden": true
        }
      },
      "execution_count": 12,
      "outputs": []
    },
    {
      "cell_type": "code",
      "source": "write(sorted(ns_words.items()), \"all_ns_words.csv\")",
      "metadata": {
        "collapsed": true,
        "jupyter": {
          "outputs_hidden": true
        }
      },
      "execution_count": 13,
      "outputs": []
    },
    {
      "cell_type": "code",
      "source": "probablity, probablity_dict = calculator(ns_words, total_count)",
      "metadata": {
        "collapsed": true,
        "jupyter": {
          "outputs_hidden": true
        }
      },
      "execution_count": 14,
      "outputs": []
    },
    {
      "cell_type": "code",
      "source": "write(sorted(probablity, key=lambda x: x[0]), \"all_ns_words.csv\")",
      "metadata": {
        "collapsed": true,
        "jupyter": {
          "outputs_hidden": true
        }
      },
      "execution_count": 18,
      "outputs": []
    },
    {
      "cell_type": "code",
      "source": "find(\"If a belief is true, it can be deduced it is universal.\", probablity_dict)",
      "metadata": {},
      "execution_count": 19,
      "outputs": [
        {
          "execution_count": 19,
          "output_type": "execute_result",
          "data": {
            "text/plain": [
              "0.021985871894594805"
            ]
          },
          "metadata": {}
        }
      ]
    },
    {
      "cell_type": "code",
      "source": "find(\"Criticism of knowledge is counter to scientific results.\", probablity_dict)",
      "metadata": {},
      "execution_count": 20,
      "outputs": [
        {
          "execution_count": 20,
          "output_type": "execute_result",
          "data": {
            "text/plain": [
              "0.02468449876974363"
            ]
          },
          "metadata": {}
        }
      ]
    },
    {
      "cell_type": "code",
      "source": "",
      "metadata": {
        "collapsed": true,
        "jupyter": {
          "outputs_hidden": true
        }
      },
      "execution_count": null,
      "outputs": []
    }
  ]
}