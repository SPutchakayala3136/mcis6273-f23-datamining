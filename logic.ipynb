{
 "cells": [
  {
   "cell_type": "code",
   "execution_count": null,
   "metadata": {
    "tags": []
   },
   "outputs": [],
   "source": [
    "import csv\n",
    "import re"
   ]
  },
  {
   "cell_type": "code",
   "execution_count": null,
   "metadata": {
    "tags": []
   },
   "outputs": [],
   "source": [
    "def is_alphabet(word):\n",
    "    return bool(re.match('^[a-zA-Z]+$', word))"
   ]
  },
  {
   "cell_type": "code",
   "execution_count": null,
   "metadata": {
    "tags": []
   },
   "outputs": [],
   "source": [
    "path_to_text = \"./TestData\"\n",
    "path_to_stopwords = \"./stopwords-en.txt\""
   ]
  },
  {
   "cell_type": "code",
   "execution_count": null,
   "metadata": {
    "tags": []
   },
   "outputs": [],
   "source": [
    "def read_text(path, uppercase = False):\n",
    "    words_dict = {}\n",
    "    data = open(path, \"r\")\n",
    "    for line in data:\n",
    "        line = line.strip()\n",
    "        words = line.split(\" \")\n",
    "        for word in words:\n",
    "            word = re.sub(r'^[^\\w]+|[^\\w]+$', '', word)\n",
    "            if is_alphabet(word):\n",
    "                if uppercase:\n",
    "                    if word[0].isupper():\n",
    "                        if word in words_dict:\n",
    "                            words_dict[word] = words_dict[word] + 1\n",
    "                        else:\n",
    "                            words_dict[word] = 1\n",
    "                else:\n",
    "                    word = word.lower()\n",
    "                    if word in words_dict:\n",
    "                        words_dict[word] = words_dict[word] + 1\n",
    "                    else:\n",
    "                        words_dict[word] = 1\n",
    "    return words_dict"
   ]
  },
  {
   "cell_type": "code",
   "execution_count": null,
   "metadata": {
    "tags": []
   },
   "outputs": [],
   "source": [
    "def write(data, file_name):\n",
    "    with open(file_name, 'w') as f:\n",
    "        w = csv.writer(f)\n",
    "        w.writerows(data)"
   ]
  },
  {
   "cell_type": "code",
   "execution_count": null,
   "metadata": {
    "tags": []
   },
   "outputs": [],
   "source": [
    "def remove_stopwords(data):\n",
    "    ns_words = {}\n",
    "    count = 0\n",
    "    stop_words = []\n",
    "    stopword = open(path_to_stopwords, \"r\")\n",
    "    for line in stopword:\n",
    "        line = line.strip()\n",
    "        words = line.split(\" \")\n",
    "        stop_words.append(words[0])\n",
    "    for word in data:\n",
    "        if word not in stop_words:\n",
    "            ns_words[word] = data[word]\n",
    "            count = count + data[word]\n",
    "    return ns_words,count"
   ]
  },
  {
   "cell_type": "code",
   "execution_count": 7,
   "metadata": {
    "collapsed": true,
    "jupyter": {
     "outputs_hidden": true
    }
   },
   "outputs": [],
   "source": [
    "def calculator(ns_words, total_count):\n",
    "    probablity = []\n",
    "    probablity_dict = {}\n",
    "    for word in ns_words:\n",
    "        probablity.append([word, ns_words[word], str(float(ns_words[word])/total_count)])\n",
    "        probablity_dict[word] = (float(ns_words[word])/total_count)\n",
    "    return probablity, probablity_dict"
   ]
  },
  {
   "cell_type": "code",
   "execution_count": 8,
   "metadata": {
    "tags": []
   },
   "outputs": [],
   "source": [
    "def find(sentences, data):\n",
    "    probability = 0\n",
    "    sentences = sentences.split(\" \")\n",
    "    for word in sentences:\n",
    "        word = re.sub(r'^[^\\w]+|[^\\w]+$', '', word)\n",
    "        if word in data:\n",
    "            probability = probability + float(data[word])\n",
    "    return probability"
   ]
  },
  {
   "cell_type": "code",
   "execution_count": 9,
   "metadata": {
    "collapsed": true,
    "jupyter": {
     "outputs_hidden": true
    }
   },
   "outputs": [],
   "source": [
    "all_words = read_text(path_to_text)"
   ]
  },
  {
   "cell_type": "code",
   "execution_count": 10,
   "metadata": {
    "collapsed": true,
    "jupyter": {
     "outputs_hidden": true
    }
   },
   "outputs": [],
   "source": [
    "upper_words = read_text(path_to_text, True)"
   ]
  },
  {
   "cell_type": "code",
   "execution_count": 11,
   "metadata": {
    "collapsed": true,
    "jupyter": {
     "outputs_hidden": true
    }
   },
   "outputs": [],
   "source": [
    "write(sorted(all_words.items()), \"all_words.csv\")\n",
    "write(sorted(upper_words.items()), \"all_uppercase_words.csv\")"
   ]
  },
  {
   "cell_type": "code",
   "execution_count": 12,
   "metadata": {
    "collapsed": true,
    "jupyter": {
     "outputs_hidden": true
    }
   },
   "outputs": [],
   "source": [
    "ns_words, total_count = remove_stopwords(all_words)"
   ]
  },
  {
   "cell_type": "code",
   "execution_count": 13,
   "metadata": {
    "collapsed": true,
    "jupyter": {
     "outputs_hidden": true
    }
   },
   "outputs": [],
   "source": [
    "write(sorted(ns_words.items()), \"all_ns_words.csv\")"
   ]
  },
  {
   "cell_type": "code",
   "execution_count": 14,
   "metadata": {
    "collapsed": true,
    "jupyter": {
     "outputs_hidden": true
    }
   },
   "outputs": [],
   "source": [
    "probablity, probablity_dict = calculator(ns_words, total_count)"
   ]
  },
  {
   "cell_type": "code",
   "execution_count": 18,
   "metadata": {
    "collapsed": true,
    "jupyter": {
     "outputs_hidden": true
    }
   },
   "outputs": [],
   "source": [
    "write(sorted(probablity, key=lambda x: x[0]), \"all_ns_words.csv\")"
   ]
  },
  {
   "cell_type": "code",
   "execution_count": 19,
   "metadata": {},
   "outputs": [
    {
     "data": {
      "text/plain": [
       "0.021985871894594805"
      ]
     },
     "execution_count": 19,
     "metadata": {},
     "output_type": "execute_result"
    }
   ],
   "source": [
    "find(\"If a belief is true, it can be deduced it is universal.\", probablity_dict)"
   ]
  },
  {
   "cell_type": "code",
   "execution_count": 20,
   "metadata": {},
   "outputs": [
    {
     "data": {
      "text/plain": [
       "0.02468449876974363"
      ]
     },
     "execution_count": 20,
     "metadata": {},
     "output_type": "execute_result"
    }
   ],
   "source": [
    "find(\"Criticism of knowledge is counter to scientific results.\", probablity_dict)"
   ]
  },
  {
   "cell_type": "code",
   "execution_count": null,
   "metadata": {
    "collapsed": true,
    "jupyter": {
     "outputs_hidden": true
    }
   },
   "outputs": [],
   "source": []
  }
 ],
 "metadata": {
  "kernelspec": {
   "display_name": "Python 3",
   "language": "python",
   "name": "python3"
  },
  "language_info": {
   "codemirror_mode": {
    "name": "ipython",
    "version": 3
   },
   "file_extension": ".py",
   "mimetype": "text/x-python",
   "name": "python",
   "nbconvert_exporter": "python",
   "pygments_lexer": "ipython3",
   "version": "3.8.8"
  }
 },
 "nbformat": 4,
 "nbformat_minor": 4
}
