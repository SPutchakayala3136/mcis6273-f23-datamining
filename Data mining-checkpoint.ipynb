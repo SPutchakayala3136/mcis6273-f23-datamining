{
  "metadata": {
    "kernelspec": {
      "name": "python",
      "display_name": "Python (Pyodide)",
      "language": "python"
    },
    "language_info": {
      "codemirror_mode": {
        "name": "ipython",
        "version": 3
      },
      "file_extension": ".py",
      "mimetype": "text/x-python",
      "name": "python",
      "nbconvert_exporter": "python",
      "pygments_lexer": "ipython3",
      "version": "3.6.3"
    }
  },
  "nbformat_minor": 4,
  "nbformat": 4,
  "cells": [
    {
      "cell_type": "code",
      "source": "import csv\nimport re",
      "metadata": {
        "collapsed": true,
        "jupyter": {
          "outputs_hidden": true
        }
      },
      "execution_count": 1,
      "outputs": []
    },
    {
      "cell_type": "markdown",
      "source": "# save_csv\n- writes the data in a csv file",
      "metadata": {}
    },
    {
      "cell_type": "code",
      "source": "def save_csv(name, data, is_dict = True):\n    if is_dict:\n        data = dict(sorted(data.items()))\n        data = data.items()\n    with open(name, 'w') as f:  \n        w = csv.writer(f)\n        w.writerows(data)",
      "metadata": {
        "collapsed": true,
        "jupyter": {
          "outputs_hidden": true
        }
      },
      "execution_count": 2,
      "outputs": []
    },
    {
      "cell_type": "markdown",
      "source": "- reads the stopword",
      "metadata": {}
    },
    {
      "cell_type": "code",
      "source": "def read_stop_word():\n    all_words = []\n    stopword = open(\"./stopwords-en.txt\", \"r\")\n    for line in stopword:\n        line = line.strip()\n        words = line.split(\" \")\n        all_words.append(words[0])\n    return all_words",
      "metadata": {
        "collapsed": true,
        "jupyter": {
          "outputs_hidden": true
        }
      },
      "execution_count": 3,
      "outputs": []
    },
    {
      "cell_type": "markdown",
      "source": "- Remove punctuation at the beginning and end of the word",
      "metadata": {}
    },
    {
      "cell_type": "code",
      "source": "def clean_word(word):\n    cleaned_word = re.sub(r'^[^\\w]+|[^\\w]+$', '', word)\n    cleaned_word = re.sub(r'^_+|_+$', '', cleaned_word)\n    return cleaned_word",
      "metadata": {
        "collapsed": true,
        "jupyter": {
          "outputs_hidden": true
        }
      },
      "execution_count": 4,
      "outputs": []
    },
    {
      "cell_type": "markdown",
      "source": "- read the data from the csv and create a dict",
      "metadata": {}
    },
    {
      "cell_type": "code",
      "source": "def read_csv_to_dict():\n    data = {}\n    count_ns_words = 0\n    \n    with open(\"all_ns_words.csv\", 'r', newline='') as f:\n        reader = csv.reader(f)\n    \n        for row in reader:\n            word, frequency = row[0], row[1]\n            data[word] = frequency\n            count_ns_words = count_ns_words + int(frequency)\n    return data, count_ns_words",
      "metadata": {
        "collapsed": true,
        "jupyter": {
          "outputs_hidden": true
        }
      },
      "execution_count": 5,
      "outputs": []
    },
    {
      "cell_type": "markdown",
      "source": "- adding probability",
      "metadata": {}
    },
    {
      "cell_type": "code",
      "source": "def add_prob(ns_word, count_ns_words):\n    ns_word_freq = []\n    for key in ns_word:\n        ns_word_freq.append([key, ns_word[key], str(float(ns_word[key])/count_ns_words)])\n    return ns_word_freq",
      "metadata": {
        "collapsed": true,
        "jupyter": {
          "outputs_hidden": true
        }
      },
      "execution_count": 6,
      "outputs": []
    },
    {
      "cell_type": "markdown",
      "source": "- finding the probablity of a sentence",
      "metadata": {}
    },
    {
      "cell_type": "code",
      "source": "def find_prob_sent(sent, probablity_data):\n    probability = 0\n    sent_list = sent.split(\" \")\n    for word in sent_list:\n        if word in probablity_data:\n            probability = probability + float(probablity_data[word])\n    return probability",
      "metadata": {
        "collapsed": true,
        "jupyter": {
          "outputs_hidden": true
        }
      },
      "execution_count": 7,
      "outputs": []
    },
    {
      "cell_type": "code",
      "source": "text = open(\"./TestData\", \"r\")",
      "metadata": {
        "collapsed": true,
        "jupyter": {
          "outputs_hidden": true
        }
      },
      "execution_count": 8,
      "outputs": []
    },
    {
      "cell_type": "code",
      "source": "freq_all_words = {}\nfreq_upper_words = {}",
      "metadata": {
        "collapsed": true,
        "jupyter": {
          "outputs_hidden": true
        }
      },
      "execution_count": 9,
      "outputs": []
    },
    {
      "cell_type": "code",
      "source": "for line in text:\n    line = line.strip()\n    words = line.split(\" \")\n    cleaned_words = [clean_word(word) for word in words]\n    for word in cleaned_words:\n        if word is not \"\":\n            if word.isupper():\n                if word in freq_upper_words:\n                    freq_upper_words[word] = freq_upper_words[word] + 1\n                else:\n                    freq_upper_words[word] = 1\n            word = word.lower()\n            if word in freq_all_words:\n                freq_all_words[word] = freq_all_words[word] + 1\n            else:\n                freq_all_words[word] = 1",
      "metadata": {
        "collapsed": true,
        "jupyter": {
          "outputs_hidden": true
        }
      },
      "execution_count": 10,
      "outputs": []
    },
    {
      "cell_type": "code",
      "source": "save_csv(\"all_words.csv\", freq_all_words)",
      "metadata": {
        "collapsed": true,
        "jupyter": {
          "outputs_hidden": true
        }
      },
      "execution_count": 11,
      "outputs": []
    },
    {
      "cell_type": "code",
      "source": "save_csv(\"all_uppercase_words.csv\", freq_upper_words)",
      "metadata": {
        "collapsed": true,
        "jupyter": {
          "outputs_hidden": true
        }
      },
      "execution_count": 12,
      "outputs": []
    },
    {
      "cell_type": "code",
      "source": "stopwords = read_stop_word()",
      "metadata": {
        "collapsed": true,
        "jupyter": {
          "outputs_hidden": true
        }
      },
      "execution_count": 13,
      "outputs": []
    },
    {
      "cell_type": "code",
      "source": "ns_words = {}\nwith open(\"all_words.csv\", 'r', newline='') as f:\n    reader = csv.reader(f)\n    \n    for row in reader:\n        word, frequency = row[0], row[1]\n        if word.lower() not in stopwords:\n            ns_words[word] = frequency\n            ",
      "metadata": {
        "collapsed": true,
        "jupyter": {
          "outputs_hidden": true
        }
      },
      "execution_count": 14,
      "outputs": []
    },
    {
      "cell_type": "code",
      "source": "save_csv(\"all_ns_words.csv\", ns_words)",
      "metadata": {
        "collapsed": true,
        "jupyter": {
          "outputs_hidden": true
        }
      },
      "execution_count": 15,
      "outputs": []
    },
    {
      "cell_type": "code",
      "source": "ns_word, count_ns_words = read_csv_to_dict()",
      "metadata": {
        "collapsed": true,
        "jupyter": {
          "outputs_hidden": true
        }
      },
      "execution_count": 16,
      "outputs": []
    },
    {
      "cell_type": "code",
      "source": "count_ns_words",
      "metadata": {},
      "execution_count": 17,
      "outputs": [
        {
          "execution_count": 17,
          "output_type": "execute_result",
          "data": {
            "text/plain": [
              "13440"
            ]
          },
          "metadata": {}
        }
      ]
    },
    {
      "cell_type": "code",
      "source": "ns_word_freq = add_prob(ns_word, count_ns_words)",
      "metadata": {
        "collapsed": true,
        "jupyter": {
          "outputs_hidden": true
        }
      },
      "execution_count": 18,
      "outputs": []
    },
    {
      "cell_type": "code",
      "source": "save_csv(\"all_ns_words.csv\", ns_word_freq, False)",
      "metadata": {
        "collapsed": true,
        "jupyter": {
          "outputs_hidden": true
        }
      },
      "execution_count": 19,
      "outputs": []
    },
    {
      "cell_type": "code",
      "source": "probablity_data = {}\nwith open(\"all_ns_words.csv\", 'r', newline='') as f:\n    reader = csv.reader(f)\n    \n    for row in reader:\n        word, probability = row[0], row[2]\n        if word.lower() not in stopwords:\n            probablity_data[word] = probability",
      "metadata": {
        "collapsed": true,
        "jupyter": {
          "outputs_hidden": true
        }
      },
      "execution_count": 20,
      "outputs": []
    },
    {
      "cell_type": "code",
      "source": "find_prob_sent(\"If a belief is true, it can be deduced it is universal.\", probablity_data)",
      "metadata": {},
      "execution_count": 21,
      "outputs": [
        {
          "execution_count": 21,
          "output_type": "execute_result",
          "data": {
            "text/plain": [
              "0.008779761904761905"
            ]
          },
          "metadata": {}
        }
      ]
    },
    {
      "cell_type": "code",
      "source": "find_prob_sent(\"Criticism of knowledge is counter to scientific results.\", probablity_data)",
      "metadata": {},
      "execution_count": 22,
      "outputs": [
        {
          "execution_count": 22,
          "output_type": "execute_result",
          "data": {
            "text/plain": [
              "0.023288690476190477"
            ]
          },
          "metadata": {}
        }
      ]
    },
    {
      "cell_type": "code",
      "source": "",
      "metadata": {
        "collapsed": true,
        "jupyter": {
          "outputs_hidden": true
        }
      },
      "execution_count": null,
      "outputs": []
    }
  ]
}